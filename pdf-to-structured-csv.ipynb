{
  "nbformat": 4,
  "nbformat_minor": 0,
  "metadata": {
    "colab": {
      "provenance": []
    },
    "kernelspec": {
      "name": "python3",
      "display_name": "Python 3"
    },
    "language_info": {
      "name": "python"
    }
  },
  "cells": [
    {
      "cell_type": "code",
      "source": [
        "!apt-get install -y poppler-utils\n",
        "!apt-get install -y tesseract-ocr\n",
        "!pip install pdf2image pytesseract"
      ],
      "metadata": {
        "colab": {
          "base_uri": "https://localhost:8080/"
        },
        "id": "1JWyvNzFzeys",
        "outputId": "c9d04c6a-de02-4301-97d5-60c4c3609575"
      },
      "execution_count": null,
      "outputs": [
        {
          "output_type": "stream",
          "name": "stdout",
          "text": [
            "Reading package lists... Done\n",
            "Building dependency tree... Done\n",
            "Reading state information... Done\n",
            "The following NEW packages will be installed:\n",
            "  poppler-utils\n",
            "0 upgraded, 1 newly installed, 0 to remove and 49 not upgraded.\n",
            "Need to get 186 kB of archives.\n",
            "After this operation, 696 kB of additional disk space will be used.\n",
            "Get:1 http://archive.ubuntu.com/ubuntu jammy-updates/main amd64 poppler-utils amd64 22.02.0-2ubuntu0.5 [186 kB]\n",
            "Fetched 186 kB in 3s (55.4 kB/s)\n",
            "Selecting previously unselected package poppler-utils.\n",
            "(Reading database ... 123622 files and directories currently installed.)\n",
            "Preparing to unpack .../poppler-utils_22.02.0-2ubuntu0.5_amd64.deb ...\n",
            "Unpacking poppler-utils (22.02.0-2ubuntu0.5) ...\n",
            "Setting up poppler-utils (22.02.0-2ubuntu0.5) ...\n",
            "Processing triggers for man-db (2.10.2-1) ...\n",
            "Reading package lists... Done\n",
            "Building dependency tree... Done\n",
            "Reading state information... Done\n",
            "The following additional packages will be installed:\n",
            "  tesseract-ocr-eng tesseract-ocr-osd\n",
            "The following NEW packages will be installed:\n",
            "  tesseract-ocr tesseract-ocr-eng tesseract-ocr-osd\n",
            "0 upgraded, 3 newly installed, 0 to remove and 49 not upgraded.\n",
            "Need to get 4,816 kB of archives.\n",
            "After this operation, 15.6 MB of additional disk space will be used.\n",
            "Get:1 http://archive.ubuntu.com/ubuntu jammy/universe amd64 tesseract-ocr-eng all 1:4.00~git30-7274cfa-1.1 [1,591 kB]\n",
            "Get:2 http://archive.ubuntu.com/ubuntu jammy/universe amd64 tesseract-ocr-osd all 1:4.00~git30-7274cfa-1.1 [2,990 kB]\n",
            "Get:3 http://archive.ubuntu.com/ubuntu jammy/universe amd64 tesseract-ocr amd64 4.1.1-2.1build1 [236 kB]\n",
            "Fetched 4,816 kB in 4s (1,236 kB/s)\n",
            "Selecting previously unselected package tesseract-ocr-eng.\n",
            "(Reading database ... 123652 files and directories currently installed.)\n",
            "Preparing to unpack .../tesseract-ocr-eng_1%3a4.00~git30-7274cfa-1.1_all.deb ...\n",
            "Unpacking tesseract-ocr-eng (1:4.00~git30-7274cfa-1.1) ...\n",
            "Selecting previously unselected package tesseract-ocr-osd.\n",
            "Preparing to unpack .../tesseract-ocr-osd_1%3a4.00~git30-7274cfa-1.1_all.deb ...\n",
            "Unpacking tesseract-ocr-osd (1:4.00~git30-7274cfa-1.1) ...\n",
            "Selecting previously unselected package tesseract-ocr.\n",
            "Preparing to unpack .../tesseract-ocr_4.1.1-2.1build1_amd64.deb ...\n",
            "Unpacking tesseract-ocr (4.1.1-2.1build1) ...\n",
            "Setting up tesseract-ocr-eng (1:4.00~git30-7274cfa-1.1) ...\n",
            "Setting up tesseract-ocr-osd (1:4.00~git30-7274cfa-1.1) ...\n",
            "Setting up tesseract-ocr (4.1.1-2.1build1) ...\n",
            "Processing triggers for man-db (2.10.2-1) ...\n",
            "Collecting pdf2image\n",
            "  Downloading pdf2image-1.17.0-py3-none-any.whl.metadata (6.2 kB)\n",
            "Collecting pytesseract\n",
            "  Downloading pytesseract-0.3.13-py3-none-any.whl.metadata (11 kB)\n",
            "Requirement already satisfied: pillow in /usr/local/lib/python3.10/dist-packages (from pdf2image) (10.4.0)\n",
            "Requirement already satisfied: packaging>=21.3 in /usr/local/lib/python3.10/dist-packages (from pytesseract) (24.1)\n",
            "Downloading pdf2image-1.17.0-py3-none-any.whl (11 kB)\n",
            "Downloading pytesseract-0.3.13-py3-none-any.whl (14 kB)\n",
            "Installing collected packages: pytesseract, pdf2image\n",
            "Successfully installed pdf2image-1.17.0 pytesseract-0.3.13\n"
          ]
        }
      ]
    },
    {
      "cell_type": "code",
      "source": [
        "import csv\n",
        "import re\n",
        "from pdf2image import convert_from_path\n",
        "import pytesseract"
      ],
      "metadata": {
        "id": "4muAEJswziQk"
      },
      "execution_count": null,
      "outputs": []
    },
    {
      "cell_type": "code",
      "source": [
        "# Path to your PDF file\n",
        "pdf_file = '/content/310598 to 310654-Yealid(3).pdf'\n",
        "\n",
        "# Convert PDF to images\n",
        "images = convert_from_path(pdf_file)\n",
        "\n",
        "# Open a CSV file to write the structured data\n",
        "with open('310598 to 310654-Yealid(3).csv', mode='w', newline='', encoding='utf-8') as csv_file:\n",
        "    writer = csv.writer(csv_file)\n",
        "\n",
        "    # Define the headers based on your data structure\n",
        "    writer.writerow([\n",
        "        'Page Number', 'Ticket', 'Date', 'Time', 'Customer', 'Transporter', 'Origin', 'Truck',\n",
        "        'Plate', 'Gross Weight', 'Tare Weight', 'Net Weight', 'Tons', 'Cubic Yards',\n",
        "        'Waste Code', 'Quantity', 'Unit of Measure', 'Unit Price', 'Amount'\n",
        "    ])\n",
        "\n",
        "    # Loop through each page image\n",
        "    for i, image in enumerate(images):\n",
        "        # Extract text from the image using OCR\n",
        "        text = pytesseract.image_to_string(image)\n",
        "\n",
        "        # Use regex to capture each field from the text\n",
        "        ticket = re.search(r'TICKET:\\s*(.*)', text)\n",
        "        date = re.search(r'DATE:\\s*(.*)', text)\n",
        "        time = re.search(r'TIME:\\s*(.*)', text)\n",
        "        customer = re.search(r'CUSTOMER:\\s*(.*)', text)\n",
        "        transporter = re.search(r'TRANSPORTER:\\s*(.*)', text)\n",
        "        origin = re.search(r'ORIGIN:\\s*(.*)', text)\n",
        "        truck = re.search(r'TRUCK:\\s*(.*)', text)\n",
        "        plate = re.search(r'PLATE:\\s*(.*)', text)\n",
        "        gross_wght = re.search(r'GROSS WGHT:\\s*(.*)', text)\n",
        "        tare_wght = re.search(r'TARE WGHT:\\s*(.*)', text)\n",
        "        net_wght = re.search(r'NET WGHT:\\s*(.*)', text)\n",
        "        tons = re.search(r'TONS:\\s*(.*)', text)\n",
        "        cuyds = re.search(r'CUYDS:\\s*(.*)', text)\n",
        "        waste_code = re.search(r'WASTE CODE:\\s*(.*)', text)\n",
        "        quantity = re.search(r'QUANTITY:\\s*(.*)', text)\n",
        "        um = re.search(r'UM:\\s*(.*)', text)\n",
        "        unit_price = re.search(r'Unit Price:\\s*(.*)', text)\n",
        "        amount = re.search(r'Amount:\\s*(.*)', text)\n",
        "\n",
        "        # Extract values or use 'N/A' if not found\n",
        "        data = [\n",
        "            i + 1,  # Page number\n",
        "            ticket.group(1) if ticket else 'N/A',\n",
        "            date.group(1) if date else 'N/A',\n",
        "            time.group(1) if time else 'N/A',\n",
        "            customer.group(1) if customer else 'N/A',\n",
        "            transporter.group(1) if transporter else 'N/A',\n",
        "            origin.group(1) if origin else 'N/A',\n",
        "            truck.group(1) if truck else 'N/A',\n",
        "            plate.group(1) if plate else 'N/A',\n",
        "            gross_wght.group(1) if gross_wght else 'N/A',\n",
        "            tare_wght.group(1) if tare_wght else 'N/A',\n",
        "            net_wght.group(1) if net_wght else 'N/A',\n",
        "            tons.group(1) if tons else 'N/A',\n",
        "            cuyds.group(1) if cuyds else 'N/A',\n",
        "            waste_code.group(1) if waste_code else 'N/A',\n",
        "            quantity.group(1) if quantity else 'N/A',\n",
        "            um.group(1) if um else 'N/A',\n",
        "            unit_price.group(1) if unit_price else 'N/A',\n",
        "            amount.group(1) if amount else 'N/A'\n",
        "        ]\n",
        "\n",
        "        # Write the extracted data into the CSV file\n",
        "        writer.writerow(data)\n",
        "\n",
        "print(\"Data extraction and structuring complete! Check '310598 to 310654-Yealid(3).csv'.\")"
      ],
      "metadata": {
        "colab": {
          "base_uri": "https://localhost:8080/"
        },
        "id": "mmm7ms8gPkJG",
        "outputId": "9b8653c7-6138-464c-f452-77c0f90ce984"
      },
      "execution_count": null,
      "outputs": [
        {
          "output_type": "stream",
          "name": "stdout",
          "text": [
            "Data extraction and structuring complete! Check '310598 to 310654-Yealid(3).csv'.\n"
          ]
        }
      ]
    }
  ]
}